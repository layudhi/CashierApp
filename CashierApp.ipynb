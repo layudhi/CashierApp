{
 "cells": [
  {
   "cell_type": "code",
   "execution_count": 7,
   "id": "287de6d0-1aec-4fd9-a008-b57b7c1c6508",
   "metadata": {},
   "outputs": [],
   "source": [
    "from tabulate import tabulate\n",
    "\n",
    "class Transaction():\n",
    "    def __init__(self, idname):\n",
    "        self.idname = idname\n",
    "        \n",
    "    def add_items(self, items_name, items_qty, items_price):\n",
    "        data_trans = []\n",
    "        items_list = {items_name : [items_qty, items_price]}\n",
    "        data_trans.append(items_list)\n",
    "\n",
    "        return data_trans\n",
    "\n",
    "    def update_items_name(self, items_name, updated_name):\n",
    "        \n",
    "        "
   ]
  },
  {
   "cell_type": "code",
   "execution_count": 8,
   "id": "e1d96ab8-544e-47c7-8b5e-de3bfa374992",
   "metadata": {},
   "outputs": [],
   "source": [
    "trans_1 = Transaction('Ipang')"
   ]
  },
  {
   "cell_type": "code",
   "execution_count": 9,
   "id": "df69161a-83c1-48da-b929-9137bc520866",
   "metadata": {},
   "outputs": [
    {
     "data": {
      "text/plain": [
       "[{'Sapu Lidi': [1, 25000]}]"
      ]
     },
     "execution_count": 9,
     "metadata": {},
     "output_type": "execute_result"
    }
   ],
   "source": [
    "trans_1.add_items('Sapu Lidi', 1, 25_000)"
   ]
  },
  {
   "cell_type": "code",
   "execution_count": null,
   "id": "d18e3091-da60-4469-ad23-abb11be628b7",
   "metadata": {},
   "outputs": [],
   "source": []
  }
 ],
 "metadata": {
  "kernelspec": {
   "display_name": "Python 3 (ipykernel)",
   "language": "python",
   "name": "python3"
  },
  "language_info": {
   "codemirror_mode": {
    "name": "ipython",
    "version": 3
   },
   "file_extension": ".py",
   "mimetype": "text/x-python",
   "name": "python",
   "nbconvert_exporter": "python",
   "pygments_lexer": "ipython3",
   "version": "3.9.18"
  }
 },
 "nbformat": 4,
 "nbformat_minor": 5
}
